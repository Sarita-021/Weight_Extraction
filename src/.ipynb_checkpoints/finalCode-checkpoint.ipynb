{
 "cells": [
  {
   "cell_type": "markdown",
   "id": "505f17e7-7f12-4444-806d-a32a1f0afb2e",
   "metadata": {},
   "source": [
    "# Importing the libraries"
   ]
  },
  {
   "cell_type": "code",
   "execution_count": 2,
   "id": "c16ac394-ff82-4368-81e2-e916a54c66df",
   "metadata": {},
   "outputs": [],
   "source": [
    "import os\n",
    "import random\n",
    "import cv2\n",
    "import re\n",
    "import sys\n",
    "import imutils\n",
    "import pytesseract\n",
    "from re import A\n",
    "import numpy as np\n",
    "import pandas as pd\n",
    "from pytesseract import Output\n",
    "import matplotlib.pyplot as plt\n",
    "from PIL import ImageFont, ImageDraw, Image\n",
    "from PIL import Image\n",
    "sys.path.append('./src/') \n",
    "from img_utils import download_images"
   ]
  },
  {
   "cell_type": "markdown",
   "id": "902cbc72-96f2-4f3d-90a2-5cec928d215e",
   "metadata": {},
   "source": [
    "# Loading the datasets"
   ]
  },
  {
   "cell_type": "code",
   "execution_count": 4,
   "id": "4a826f07-ec7c-42e2-b8f3-f01328499a2a",
   "metadata": {},
   "outputs": [],
   "source": [
    "DATASET_FOLDER = './dataset/'\n",
    "train = pd.read_csv(os.path.join(DATASET_FOLDER, 'train.csv'))\n",
    "test = pd.read_csv(os.path.join(DATASET_FOLDER, 'test.csv'))\n",
    "sample_test = pd.read_csv(os.path.join(DATASET_FOLDER, 'sample_test.csv'))\n",
    "sample_test1 = pd.read_csv(os.path.join(DATASET_FOLDER, 'sample_test1.csv'))\n",
    "sample_test_out = pd.read_csv(os.path.join(DATASET_FOLDER, 'sample_test_out.csv'))"
   ]
  },
  {
   "cell_type": "markdown",
   "id": "5dd20714-cbbf-4a83-bdee-952a43f0177f",
   "metadata": {},
   "source": [
    "## Sanity Check"
   ]
  },
  {
   "cell_type": "code",
   "execution_count": 6,
   "id": "71c197a4-e2de-45ec-a111-44b3da18a462",
   "metadata": {},
   "outputs": [],
   "source": [
    "# !python ./src/sanity.py --test_filename ./dataset/sample_test.csv --output_filename ./dataset/sample_test_out.csv\n",
    "# !python ./src/sanity.py --test_filename ./dataset/sample_test.csv --output_filename ./dataset/sample_test_out_fail.csv"
   ]
  },
  {
   "cell_type": "markdown",
   "id": "a3c23333-1f92-4cdb-84bd-d8b37c703249",
   "metadata": {},
   "source": [
    "## Importing download_images function from img_utils"
   ]
  },
  {
   "cell_type": "code",
   "execution_count": null,
   "id": "550ffea4-8951-4a4b-aac7-d602321e20f2",
   "metadata": {},
   "outputs": [
    {
     "name": "stderr",
     "output_type": "stream",
     "text": [
      "  0%|                                                    | 0/10 [00:00<?, ?it/s]"
     ]
    }
   ],
   "source": [
    "download_images(sample_test1['image_link'], sample_test1['group_id'], 'images')\n",
    "assert len(os.listdir('images')) > 0"
   ]
  },
  {
   "cell_type": "code",
   "execution_count": null,
   "id": "98590b71-5db9-442b-b8b6-2cba81263b2f",
   "metadata": {},
   "outputs": [],
   "source": [
    "# Code for Removing the images folder after work is done\n",
    "# rm -rf ../images"
   ]
  },
  {
   "cell_type": "markdown",
   "id": "ec04f0fc-4839-4153-a32a-e437c0d6d9cc",
   "metadata": {},
   "source": [
    "### Show image function"
   ]
  },
  {
   "cell_type": "code",
   "execution_count": null,
   "id": "66b325ee-df98-49e2-9fb1-5e3e5799ead3",
   "metadata": {},
   "outputs": [],
   "source": [
    "directory_imgs = \"../images/\"\n",
    "paths = [os.path.join(directory_imgs, f) for f in os.listdir(directory_imgs)]\n",
    "# print(paths)"
   ]
  },
  {
   "cell_type": "code",
   "execution_count": null,
   "id": "05cf5625-f177-4172-b37b-9ba286dde07a",
   "metadata": {},
   "outputs": [],
   "source": [
    "def show_img(img):\n",
    "    fig = plt.gcf()\n",
    "    fig.set_size_inches(20, 10)\n",
    "    plt.axis(\"off\")\n",
    "    plt.imshow(cv2.cvtColor(img, cv2.COLOR_BGR2RGB))\n",
    "    plt.show()"
   ]
  },
  {
   "cell_type": "code",
   "execution_count": null,
   "id": "b0002082-67a4-4b6a-841b-06f5ef65b0f8",
   "metadata": {},
   "outputs": [],
   "source": [
    "# for image in paths:\n",
    "#     print(image)\n",
    "#     img = cv2.imread(image)\n",
    "#     show_img(img)"
   ]
  },
  {
   "cell_type": "markdown",
   "id": "a17d06a2-53df-4863-a344-c2cb196d8245",
   "metadata": {},
   "source": [
    "# Text Recognition"
   ]
  },
  {
   "cell_type": "code",
   "execution_count": null,
   "id": "659c9b09-1ee9-4446-b6f7-021ed6dff21f",
   "metadata": {},
   "outputs": [],
   "source": [
    "gpu = True\n",
    "min_conf = 10\n",
    "font = './content/calibri.ttf'\n",
    "config_tesseract = \"--tessdata-dir tessdata\""
   ]
  },
  {
   "cell_type": "code",
   "execution_count": null,
   "id": "35180ed2-70bd-4089-a451-825aa4b956eb",
   "metadata": {},
   "outputs": [],
   "source": [
    "from easyocr import Reader\n",
    "reader = Reader(['en'], gpu)"
   ]
  },
  {
   "cell_type": "code",
   "execution_count": null,
   "id": "43cf258b-217f-4921-af43-5ae2c5d2ee1a",
   "metadata": {},
   "outputs": [],
   "source": [
    "def write_text(text, x, y, img, font, color=(209, 0, 3), font_size=18):\n",
    "    font = ImageFont.truetype(font, font_size)\n",
    "    img_pil = Image.fromarray(img)\n",
    "    draw = ImageDraw.Draw(img_pil)\n",
    "    draw.text((x, y-font_size), text, font = font, fill = color)\n",
    "    img = np.array(img_pil)\n",
    "    return img"
   ]
  },
  {
   "cell_type": "code",
   "execution_count": null,
   "id": "91da14bf-07e6-4175-a096-f670c2e1ed5c",
   "metadata": {},
   "outputs": [],
   "source": [
    "def box(i, result, img, color=(209, 0, 3)):\n",
    "    (lt, rt, br, bl) = result[i][0]\n",
    "    lt = (int(lt[0]), int(lt[1]))\n",
    "    rt = (int(rt[0]), int(rt[1]))\n",
    "    br = (int(br[0]), int(br[1]))\n",
    "    bl = (int(bl[0]), int(bl[1]))\n",
    "    cv2.rectangle(img, lt, br, color, 2)\n",
    "\n",
    "    return lt[0], lt[1], img"
   ]
  },
  {
   "cell_type": "code",
   "execution_count": null,
   "id": "6e31f353-6563-42b2-9ddf-77722d5be24b",
   "metadata": {},
   "outputs": [],
   "source": [
    "def convert_to_equi_unit(value, unit):\n",
    "    \"\"\"Convert different units to grams.\"\"\"\n",
    "    unit = unit.lower()\n",
    "    if unit in ['kg', 'kilogram']:\n",
    "        print(value*1000, 'g')\n",
    "        return value * 1000   \n",
    "    elif unit in ['g', 'gram']:\n",
    "        return value  \n",
    "    elif unit in ['mg', 'milligram']:\n",
    "        return value / 1000 \n",
    "    elif unit in ['litre', 'l']:\n",
    "        return value * 1000 \n",
    "    elif unit in ['ml', 'millilitre']:\n",
    "        return value \n",
    "    elif unit in ['cm', 'centimetre']:\n",
    "        return value / 100\n",
    "    elif unit in ['mm', 'millimetre']:\n",
    "        return value / 1000\n",
    "    elif unit in ['m', 'metre']:\n",
    "        return value\n",
    "    elif unit in ['pound']:\n",
    "        return value*453.6\n",
    "    elif unit in ['oz', 'ounce']:\n",
    "        return value*28.35\n",
    "    else:\n",
    "        return value  # In case of an unsupported unit\n"
   ]
  },
  {
   "cell_type": "code",
   "execution_count": null,
   "id": "a30655ad-e2ae-4fdc-bc62-78a152ac63de",
   "metadata": {},
   "outputs": [],
   "source": [
    "def ocr_process_img(img, config_tesseract, min_conf):\n",
    "    results = reader.readtext(img)\n",
    "    results = np.array(results, dtype=object)\n",
    "    \n",
    "    #print(results[:,1])\n",
    "    print('======================================================')\n",
    "    \n",
    "    # Select the appropriate pattern based on the entity name\n",
    "    term_search = r'\\(?\\d+(?:\\.\\d+)?\\s?(kg|kilogram|g|gram|mg|milligram|lb|pound|oz|ounce|litre|ml|millilitre|gallon|cup|quart|pint|cm|centimetre|mm|millimetre|m|metre|inch|foot)\\)?' \n",
    "\n",
    "    regex = re.compile(term_search, re.IGNORECASE)\n",
    "    \n",
    "    max_value = -1\n",
    "    max_match = None\n",
    "    max_box = None\n",
    "    \n",
    "    # Loop through all detected text results\n",
    "    for i in range(0, len(results[:, 1])):\n",
    "        texts = results[i][1]\n",
    "        match = re.search(term_search, texts.lower())\n",
    "        \n",
    "        if match:\n",
    "            obj_weight = re.search(r'\\d+(?:\\.\\d+)?', match.group())\n",
    "            val = float(obj_weight.group())  # Extract the numeric value\n",
    "            match_unit = r'\\(?\\s?(kg|kilogram|g|gram|mg|milligram|lb|pound|oz|ounce|litre|ml|millilitre|gallon|cup|quart|pint|cm|centimetre|mm|millimetre|m|metre|inch|foot)\\)?'\n",
    "            entity_unit = re.search(match_unit, match.group())\n",
    "            unit = entity_unit.group()  # Extract the unit\n",
    "            \n",
    "            value = convert_to_equi_unit(val, unit.strip())\n",
    "            \n",
    "            if value is not None and value > max_value :\n",
    "                max_value = value\n",
    "                max_match = match.group()\n",
    "                max_box = (i, val, unit)  # Save box information for the max value\n",
    "\n",
    "    # If we found a valid match with the greatest value, box it\n",
    "    weight = None\n",
    "    if max_box:\n",
    "        i, value, unit = max_box\n",
    "        weight = str(value) + \" \" + unit\n",
    "        x, y, img = box(i, results, img, (209, 0, 3))  # Draw a box around the greatest entity\n",
    "        img = write_text(max_match, x, y, img, font, (209, 0, 3), 18)  # Write the matched text\n",
    "\n",
    "    \n",
    "    return img, weight"
   ]
  },
  {
   "cell_type": "code",
   "execution_count": null,
   "id": "e53edba7-ea82-4ec5-8970-9e0f31b8acee",
   "metadata": {},
   "outputs": [],
   "source": [
    "i=0\n",
    "for image in paths:\n",
    "    img = cv2.imread(image)\n",
    "    img_original = img.copy()\n",
    "    file_image = os.path.split(image)[-1]\n",
    "    print('=================\\n' + str(file_image))\n",
    "\n",
    "    resized_img = cv2.resize(img, None, fx=2, fy=2, interpolation=cv2.INTER_CUBIC)\n",
    "    # gray = cv2.cvtColor(resized_img, cv2.COLOR_BGR2GRAY)\n",
    "    # blurred_img = cv2.GaussianBlur(img, (5, 5), 0)\n",
    "    \n",
    "    img, max_value = ocr_process_img(img, config_tesseract, min_conf)\n",
    "    print('Weight of the object is {}'.format(max_value))\n",
    "    print('\\n')\n",
    "    show_img(img)\n",
    "    i+=1"
   ]
  },
  {
   "cell_type": "code",
   "execution_count": null,
   "id": "05d1ca1c-5d5c-4eb3-a07d-d646dff882e3",
   "metadata": {},
   "outputs": [],
   "source": []
  }
 ],
 "metadata": {
  "kernelspec": {
   "display_name": "Python 3 (ipykernel)",
   "language": "python",
   "name": "python3"
  },
  "language_info": {
   "codemirror_mode": {
    "name": "ipython",
    "version": 3
   },
   "file_extension": ".py",
   "mimetype": "text/x-python",
   "name": "python",
   "nbconvert_exporter": "python",
   "pygments_lexer": "ipython3",
   "version": "3.12.4"
  }
 },
 "nbformat": 4,
 "nbformat_minor": 5
}
